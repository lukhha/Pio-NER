{
 "cells": [
  {
   "cell_type": "code",
   "execution_count": 50,
   "metadata": {},
   "outputs": [],
   "source": [
    "#import evaluate\n",
    "import os\n",
    "import pandas as pd\n",
    "from sklearn.model_selection import train_test_split\n",
    "from datasets import Dataset, DatasetDict, ClassLabel\n",
    "from transformers import AutoTokenizer, DataCollatorForTokenClassification, AutoModelForTokenClassification, TrainingArguments, Trainer\n",
    "from transformers import pipeline\n",
    "import numpy as np\n",
    "import evaluate\n",
    "import torch\n",
    "import mlflow"
   ]
  },
  {
   "cell_type": "code",
   "execution_count": 51,
   "metadata": {},
   "outputs": [
    {
     "data": {
      "text/plain": [
       "<Experiment: artifact_location='file:///Users/lukishyadav/Desktop/engineering/case_studies/ner_casestudy/mlruns/871896506229020652', creation_time=1719024964319, experiment_id='871896506229020652', last_update_time=1719024964319, lifecycle_stage='active', name='NER_Casestudy_Experiment2', tags={}>"
      ]
     },
     "execution_count": 51,
     "metadata": {},
     "output_type": "execute_result"
    }
   ],
   "source": [
    "\n",
    "# Ensure MLflow directory exists\n",
    "mlruns_dir = '/Users/lukishyadav/Desktop/engineering/case_studies/ner_casestudy/mlruns'\n",
    "if not os.path.exists(mlruns_dir):\n",
    "    os.makedirs(mlruns_dir)\n",
    "\n",
    "mlruns_trash_dir = '/Users/lukishyadav/Desktop/engineering/case_studies/ner_casestudy/mlruns/.trash'\n",
    "if not os.path.exists(mlruns_trash_dir):\n",
    "    os.makedirs(mlruns_trash_dir)\n",
    "\n",
    "mlflow.set_tracking_uri('file:///Users/lukishyadav/Desktop/engineering/case_studies/ner_casestudy/mlruns')\n",
    "\n",
    "#experiment_id = mlflow.create_experiment('NER_Casestudy_Experiment')\n",
    "\n",
    "# Create or get the experiment\n",
    "experiment_name = \"NER_Casestudy_Experiment2\"\n",
    "mlflow.set_experiment(experiment_name)\n",
    "\n",
    "#mlflow.transformers.autolog()"
   ]
  },
  {
   "cell_type": "code",
   "execution_count": 52,
   "metadata": {},
   "outputs": [],
   "source": [
    "\n",
    "# Load the dataset with a specified encoding\n",
    "file_path = '/Users/lukishyadav/Desktop/engineering/case_studies/ner_casestudy/data/ner_dataset.csv'  # Replace with your file path\n",
    "data = pd.read_csv(file_path, encoding='ISO-8859-1')\n",
    "\n",
    "\n",
    "data=data.head(1000)"
   ]
  },
  {
   "cell_type": "code",
   "execution_count": 53,
   "metadata": {},
   "outputs": [],
   "source": [
    "\n",
    "# Drop rows with NaN values\n",
    "data = data.dropna(subset=['Word','POS','Tag'])\n"
   ]
  },
  {
   "cell_type": "code",
   "execution_count": 54,
   "metadata": {},
   "outputs": [],
   "source": [
    "\n",
    "# Group the data by sentences\n",
    "data['Sentence #'] = data['Sentence #'].ffill()  # Fill forward to propagate sentence IDs\n",
    "sentences = data.groupby('Sentence #').apply(lambda s: [(w, p, t) for w, p, t in zip(s['Word'].values.tolist(),\n",
    "                                                                                      s['POS'].values.tolist(),\n",
    "                                                                                      s['Tag'].values.tolist())])\n",
    "# Convert the groupby object to a list of sentences\n",
    "sentences = [s for s in sentences]\n",
    "\n",
    "# Split the dataset into training, validation, and test sets (20% for test)\n",
    "train_sentences, test_sentences = train_test_split(sentences, test_size=0.20, random_state=42)\n",
    "train_sentences, val_sentences = train_test_split(train_sentences, test_size=0.25, random_state=42)  # 0.25 * 0.80 = 0.20\n"
   ]
  },
  {
   "cell_type": "code",
   "execution_count": 85,
   "metadata": {},
   "outputs": [
    {
     "data": {
      "text/plain": [
       "[('Poor', 'JJ', 'O'),\n",
       " ('residents', 'NNS', 'O'),\n",
       " ('often', 'RB', 'O'),\n",
       " ('complain', 'VBP', 'O'),\n",
       " ('they', 'PRP', 'O')]"
      ]
     },
     "execution_count": 85,
     "metadata": {},
     "output_type": "execute_result"
    }
   ],
   "source": [
    "train_sentences[0][0:5]"
   ]
  },
  {
   "cell_type": "code",
   "execution_count": 55,
   "metadata": {},
   "outputs": [],
   "source": [
    "\n",
    "# Convert to Hugging Face Datasets format\n",
    "def convert_to_dict(sentences):\n",
    "    words = [[word for word, pos, tag in sentence] for sentence in sentences]\n",
    "    pos_tags = [[pos for word, pos, tag in sentence] for sentence in sentences]\n",
    "    ner_tags = [[tag for word, pos, tag in sentence] for sentence in sentences]\n",
    "    return {\"tokens\": words, \"pos_tags\": pos_tags, \"ner_tags\": ner_tags}\n",
    "\n",
    "train_data = convert_to_dict(train_sentences)\n",
    "val_data = convert_to_dict(val_sentences)\n",
    "test_data = convert_to_dict(test_sentences)\n",
    "\n",
    "# Create a dataset dictionary\n",
    "dataset_dict = DatasetDict({\n",
    "    'train': Dataset.from_dict(train_data),\n",
    "    'validation': Dataset.from_dict(val_data),\n",
    "    'test': Dataset.from_dict(test_data)\n",
    "})\n",
    "\n"
   ]
  },
  {
   "cell_type": "code",
   "execution_count": 86,
   "metadata": {},
   "outputs": [
    {
     "data": {
      "text/plain": [
       "DatasetDict({\n",
       "    train: Dataset({\n",
       "        features: ['tokens', 'pos_tags', 'ner_tags'],\n",
       "        num_rows: 25\n",
       "    })\n",
       "    validation: Dataset({\n",
       "        features: ['tokens', 'pos_tags', 'ner_tags'],\n",
       "        num_rows: 9\n",
       "    })\n",
       "    test: Dataset({\n",
       "        features: ['tokens', 'pos_tags', 'ner_tags'],\n",
       "        num_rows: 9\n",
       "    })\n",
       "})"
      ]
     },
     "execution_count": 86,
     "metadata": {},
     "output_type": "execute_result"
    }
   ],
   "source": [
    "dataset_dict"
   ]
  },
  {
   "cell_type": "code",
   "execution_count": 56,
   "metadata": {},
   "outputs": [],
   "source": [
    "# Define unique tags\n",
    "unique_tags = list(set(tag for doc in dataset_dict['train']['ner_tags'] for tag in doc))\n",
    "tag2id = {tag: id for id, tag in enumerate(unique_tags)}\n",
    "id2tag = {id: tag for tag, id in tag2id.items()}"
   ]
  },
  {
   "cell_type": "code",
   "execution_count": 87,
   "metadata": {},
   "outputs": [],
   "source": [
    "#tag2id,id2tag"
   ]
  },
  {
   "cell_type": "code",
   "execution_count": 58,
   "metadata": {},
   "outputs": [
    {
     "name": "stderr",
     "output_type": "stream",
     "text": [
      "/opt/anaconda3/envs/gen_3.8/lib/python3.8/site-packages/huggingface_hub/file_download.py:1132: FutureWarning: `resume_download` is deprecated and will be removed in version 1.0.0. Downloads always resume when possible. If you want to force a new download, use `force_download=True`.\n",
      "  warnings.warn(\n"
     ]
    },
    {
     "data": {
      "application/vnd.jupyter.widget-view+json": {
       "model_id": "a5d3ea782e044a338fbe59533807fb3a",
       "version_major": 2,
       "version_minor": 0
      },
      "text/plain": [
       "tokenizer_config.json:   0%|          | 0.00/710 [00:00<?, ?B/s]"
      ]
     },
     "metadata": {},
     "output_type": "display_data"
    },
    {
     "data": {
      "application/vnd.jupyter.widget-view+json": {
       "model_id": "9c462813d587445c8a0bee4427dc2d97",
       "version_major": 2,
       "version_minor": 0
      },
      "text/plain": [
       "sentencepiece.bpe.model:   0%|          | 0.00/811k [00:00<?, ?B/s]"
      ]
     },
     "metadata": {},
     "output_type": "display_data"
    },
    {
     "data": {
      "application/vnd.jupyter.widget-view+json": {
       "model_id": "523f30fcb73d4f13b4df21888ff6563d",
       "version_major": 2,
       "version_minor": 0
      },
      "text/plain": [
       "tokenizer.json:   0%|          | 0.00/2.42M [00:00<?, ?B/s]"
      ]
     },
     "metadata": {},
     "output_type": "display_data"
    },
    {
     "data": {
      "application/vnd.jupyter.widget-view+json": {
       "model_id": "bfbd369182774c84b3f83b61c72017b0",
       "version_major": 2,
       "version_minor": 0
      },
      "text/plain": [
       "special_tokens_map.json:   0%|          | 0.00/241 [00:00<?, ?B/s]"
      ]
     },
     "metadata": {},
     "output_type": "display_data"
    }
   ],
   "source": [
    "# Tokenizer\n",
    "model_checkpoint = \"dslim/bert-base-NER\"\n",
    "model_checkpoint=\"nlpso/m3_hierarchical_ner_ref_cmbert_iob2\"\n",
    "tokenizer = AutoTokenizer.from_pretrained(model_checkpoint)"
   ]
  },
  {
   "cell_type": "code",
   "execution_count": 59,
   "metadata": {},
   "outputs": [
    {
     "data": {
      "application/vnd.jupyter.widget-view+json": {
       "model_id": "0e08b12a01cc47918e25302bbfed0004",
       "version_major": 2,
       "version_minor": 0
      },
      "text/plain": [
       "Map:   0%|          | 0/25 [00:00<?, ? examples/s]"
      ]
     },
     "metadata": {},
     "output_type": "display_data"
    },
    {
     "data": {
      "application/vnd.jupyter.widget-view+json": {
       "model_id": "b27e664a0c6e443b9ced804af12c51d9",
       "version_major": 2,
       "version_minor": 0
      },
      "text/plain": [
       "Map:   0%|          | 0/9 [00:00<?, ? examples/s]"
      ]
     },
     "metadata": {},
     "output_type": "display_data"
    },
    {
     "data": {
      "application/vnd.jupyter.widget-view+json": {
       "model_id": "042023d3b41c4a789823cb978b41099c",
       "version_major": 2,
       "version_minor": 0
      },
      "text/plain": [
       "Map:   0%|          | 0/9 [00:00<?, ? examples/s]"
      ]
     },
     "metadata": {},
     "output_type": "display_data"
    }
   ],
   "source": [
    "def tokenize_and_align_labels(examples):\n",
    "    tokenized_inputs = tokenizer(examples[\"tokens\"], truncation=True, is_split_into_words=True)\n",
    "\n",
    "    labels = []\n",
    "    for i, label in enumerate(examples[f\"ner_tags\"]):\n",
    "        word_ids = tokenized_inputs.word_ids(batch_index=i)\n",
    "        previous_word_idx = None\n",
    "        label_ids = []\n",
    "        for word_idx in word_ids:\n",
    "            if word_idx is None:\n",
    "                label_ids.append(-100)\n",
    "            elif word_idx != previous_word_idx:\n",
    "                label_ids.append(tag2id[label[word_idx]])\n",
    "            else:\n",
    "                label_ids.append(tag2id[label[word_idx]] if True else -100)\n",
    "            previous_word_idx = word_idx\n",
    "        labels.append(label_ids)\n",
    "    tokenized_inputs[\"labels\"] = labels\n",
    "    return tokenized_inputs\n",
    "\n",
    "tokenized_datasets = dataset_dict.map(tokenize_and_align_labels, batched=True)\n",
    "\n"
   ]
  },
  {
   "cell_type": "code",
   "execution_count": 92,
   "metadata": {},
   "outputs": [],
   "source": [
    "tokenized_inputs = tokenizer(dataset_dict['train'][\"tokens\"], truncation=True, is_split_into_words=True)\n",
    "\n"
   ]
  },
  {
   "cell_type": "code",
   "execution_count": 95,
   "metadata": {},
   "outputs": [
    {
     "data": {
      "text/plain": [
       "Encoding(num_tokens=65, attributes=[ids, type_ids, tokens, offsets, attention_mask, special_tokens_mask, overflowing])"
      ]
     },
     "execution_count": 95,
     "metadata": {},
     "output_type": "execute_result"
    }
   ],
   "source": [
    "tokenized_inputs[1]"
   ]
  },
  {
   "cell_type": "code",
   "execution_count": 90,
   "metadata": {},
   "outputs": [
    {
     "data": {
      "text/plain": [
       "Dataset({\n",
       "    features: ['tokens', 'pos_tags', 'ner_tags', 'input_ids', 'attention_mask', 'labels'],\n",
       "    num_rows: 25\n",
       "})"
      ]
     },
     "execution_count": 90,
     "metadata": {},
     "output_type": "execute_result"
    }
   ],
   "source": [
    "tokenized_datasets['train']"
   ]
  },
  {
   "cell_type": "code",
   "execution_count": 61,
   "metadata": {},
   "outputs": [
    {
     "data": {
      "application/vnd.jupyter.widget-view+json": {
       "model_id": "ec5919f3bccd4f9497243018dff27157",
       "version_major": 2,
       "version_minor": 0
      },
      "text/plain": [
       "config.json:   0%|          | 0.00/2.29k [00:00<?, ?B/s]"
      ]
     },
     "metadata": {},
     "output_type": "display_data"
    },
    {
     "data": {
      "application/vnd.jupyter.widget-view+json": {
       "model_id": "4b5ab86c6c8d47c485a460ff84df2bf1",
       "version_major": 2,
       "version_minor": 0
      },
      "text/plain": [
       "pytorch_model.bin:   0%|          | 0.00/440M [00:00<?, ?B/s]"
      ]
     },
     "metadata": {},
     "output_type": "display_data"
    },
    {
     "name": "stderr",
     "output_type": "stream",
     "text": [
      "Some weights of CamembertForTokenClassification were not initialized from the model checkpoint at nlpso/m3_hierarchical_ner_ref_cmbert_iob2 and are newly initialized because the shapes did not match:\n",
      "- classifier.weight: found shape torch.Size([29, 768]) in the checkpoint and torch.Size([11, 768]) in the model instantiated\n",
      "- classifier.bias: found shape torch.Size([29]) in the checkpoint and torch.Size([11]) in the model instantiated\n",
      "You should probably TRAIN this model on a down-stream task to be able to use it for predictions and inference.\n"
     ]
    }
   ],
   "source": [
    "# Data collator\n",
    "data_collator = DataCollatorForTokenClassification(tokenizer)\n",
    "\n",
    "device = torch.device(\"mps\") if torch.backends.mps.is_available() else torch.device(\"cpu\")\n",
    "\n",
    "# Model\n",
    "model = AutoModelForTokenClassification.from_pretrained(model_checkpoint, num_labels=len(unique_tags), ignore_mismatched_sizes=True)\n",
    "model.classifier = torch.nn.Linear(model.classifier.in_features, len(unique_tags))\n",
    "model.num_labels = len(unique_tags)\n",
    "\n",
    "# Metrics\n",
    "metric = evaluate.load(\"seqeval\")\n",
    "\n"
   ]
  },
  {
   "cell_type": "code",
   "execution_count": 62,
   "metadata": {},
   "outputs": [],
   "source": [
    "def compute_metrics(p):\n",
    "    predictions, labels = p\n",
    "    predictions = np.argmax(predictions, axis=2)\n",
    "\n",
    "    true_predictions = [\n",
    "        [id2tag[p] for (p, l) in zip(prediction, label) if l != -100]\n",
    "        for prediction, label in zip(predictions, labels)\n",
    "    ]\n",
    "    true_labels = [\n",
    "        [id2tag[l] for (p, l) in zip(prediction, label) if l != -100]\n",
    "        for prediction, label in zip(predictions, labels)\n",
    "    ]\n",
    "\n",
    "    results = metric.compute(predictions=true_predictions, references=true_labels)\n",
    "    return {\n",
    "        \"precision\": results[\"overall_precision\"],\n",
    "        \"recall\": results[\"overall_recall\"],\n",
    "        \"f1\": results[\"overall_f1\"],\n",
    "        \"accuracy\": results[\"overall_accuracy\"],\n",
    "    }\n",
    "\n"
   ]
  },
  {
   "cell_type": "code",
   "execution_count": 63,
   "metadata": {},
   "outputs": [
    {
     "name": "stderr",
     "output_type": "stream",
     "text": [
      "/opt/anaconda3/envs/gen_3.8/lib/python3.8/site-packages/transformers/optimization.py:411: FutureWarning: This implementation of AdamW is deprecated and will be removed in a future version. Use the PyTorch implementation torch.optim.AdamW instead, or set `no_deprecation_warning=True` to disable this warning\n",
      "  warnings.warn(\n"
     ]
    },
    {
     "data": {
      "application/vnd.jupyter.widget-view+json": {
       "model_id": "d9415a973ecd4428aead7c133eb1adf6",
       "version_major": 2,
       "version_minor": 0
      },
      "text/plain": [
       "  0%|          | 0/2 [00:00<?, ?it/s]"
      ]
     },
     "metadata": {},
     "output_type": "display_data"
    },
    {
     "name": "stderr",
     "output_type": "stream",
     "text": [
      "You're using a CamembertTokenizerFast tokenizer. Please note that with a fast tokenizer, using the `__call__` method is faster than using a method to encode the text followed by a call to the `pad` method to get a padded encoding.\n"
     ]
    },
    {
     "data": {
      "application/vnd.jupyter.widget-view+json": {
       "model_id": "bd379630637b4407bbbee80148e28606",
       "version_major": 2,
       "version_minor": 0
      },
      "text/plain": [
       "  0%|          | 0/1 [00:00<?, ?it/s]"
      ]
     },
     "metadata": {},
     "output_type": "display_data"
    },
    {
     "name": "stdout",
     "output_type": "stream",
     "text": [
      "{'eval_loss': 2.3240535259246826, 'eval_precision': 0.023121387283236993, 'eval_recall': 0.0851063829787234, 'eval_f1': 0.03636363636363636, 'eval_accuracy': 0.18110236220472442, 'eval_runtime': 0.292, 'eval_samples_per_second': 30.826, 'eval_steps_per_second': 3.425, 'epoch': 1.0}\n",
      "{'train_runtime': 3.5643, 'train_samples_per_second': 7.014, 'train_steps_per_second': 0.561, 'train_loss': 2.420711040496826, 'epoch': 1.0}\n"
     ]
    },
    {
     "name": "stderr",
     "output_type": "stream",
     "text": [
      "/opt/anaconda3/envs/gen_3.8/lib/python3.8/site-packages/seqeval/metrics/v1.py:57: UndefinedMetricWarning: Recall and F-score are ill-defined and being set to 0.0 in labels with no true samples. Use `zero_division` parameter to control this behavior.\n",
      "  _warn_prf(average, modifier, msg_start, len(result))\n"
     ]
    }
   ],
   "source": [
    "\n",
    "# Training arguments\n",
    "args = TrainingArguments(\n",
    "    output_dir='./results',\n",
    "    #\"test-ner\",\n",
    "    evaluation_strategy = \"epoch\",\n",
    "    learning_rate=2e-5,\n",
    "    per_device_train_batch_size=16,\n",
    "    per_device_eval_batch_size=16,\n",
    "    num_train_epochs=1,\n",
    "    weight_decay=0.01,\n",
    "    use_mps_device=True,\n",
    "    logging_dir='./logs',\n",
    "    save_total_limit=2,\n",
    ")\n",
    "\n",
    "# Trainer\n",
    "trainer = Trainer(\n",
    "    model,\n",
    "    args,\n",
    "    train_dataset=tokenized_datasets[\"train\"],\n",
    "    eval_dataset=tokenized_datasets[\"validation\"],\n",
    "    data_collator=data_collator,\n",
    "    tokenizer=tokenizer,\n",
    "    compute_metrics=compute_metrics\n",
    ")\n",
    "\n",
    "# Start MLflow run\n",
    "with mlflow.start_run() as run:\n",
    "    # Train the model\n",
    "    trainer.train()\n",
    "\n"
   ]
  },
  {
   "cell_type": "code",
   "execution_count": 64,
   "metadata": {},
   "outputs": [
    {
     "data": {
      "text/plain": [
       "'\\n\\n    # Log the model artifact\\n    trainer.save_model(os.path.join(\"results\", \"model\"))\\n    tokenizer.save_pretrained(os.path.join(\"results\", \"model\"))\\n\\n    mlflow.log_artifacts(\"results/model\")\\n\\n\\n    # Log other artifacts if needed\\n    # For example, logging training args\\n    with open(\"results/training_args.bin\", \"wb\") as f:\\n        torch.save(args, f)\\n    mlflow.log_artifact(\"results/training_args.bin\")\\n\\n'"
      ]
     },
     "execution_count": 64,
     "metadata": {},
     "output_type": "execute_result"
    }
   ],
   "source": [
    "\n",
    "\n",
    "#     # Log metrics to MLflow\n",
    "#     mlflow.log_metrics(results)\n",
    "\n",
    "    \n",
    "\n",
    "\n",
    "\"\"\"\n",
    "\n",
    "    # Log the model artifact\n",
    "    trainer.save_model(os.path.join(\"results\", \"model\"))\n",
    "    tokenizer.save_pretrained(os.path.join(\"results\", \"model\"))\n",
    "\n",
    "    mlflow.log_artifacts(\"results/model\")\n",
    "\n",
    "\n",
    "    # Log other artifacts if needed\n",
    "    # For example, logging training args\n",
    "    with open(\"results/training_args.bin\", \"wb\") as f:\n",
    "        torch.save(args, f)\n",
    "    mlflow.log_artifact(\"results/training_args.bin\")\n",
    "\n",
    "\"\"\"\n"
   ]
  },
  {
   "cell_type": "code",
   "execution_count": 65,
   "metadata": {},
   "outputs": [],
   "source": [
    "device = torch.device(\"mps\") if torch.backends.mps.is_available() else torch.device(\"cpu\")\n",
    "\n",
    "# Predict with the model\n",
    "tuned_pipeline = pipeline(\"ner\", model=model, tokenizer=tokenizer, aggregation_strategy=\"simple\",device=device)\n",
    "input_example = \"Hugging Face Inc. is a company based in New York City. Its headquarters are in DUMBO, therefore very close to the Manhattan Bridge.\"\n",
    "# ner_results = ner_pipeline(sample_text)\n",
    "# print(ner_results)\n",
    "\n",
    "\n",
    "\n",
    "\n",
    "# Infer the model signature, including a representative input, the expected output, and the parameters that we would like to be able to override at inference time.\n",
    "signature = mlflow.models.infer_signature(\n",
    "    [\"This is a test!\", \"And this is also a test.\"],\n",
    "    mlflow.transformers.generate_signature_output(\n",
    "        tuned_pipeline, [\"This is a test response!\", \"So is this.\"]\n",
    "    ),\n",
    "    #params=model_config,\n",
    ")\n"
   ]
  },
  {
   "cell_type": "code",
   "execution_count": 66,
   "metadata": {},
   "outputs": [
    {
     "data": {
      "application/vnd.jupyter.widget-view+json": {
       "model_id": "821ece07d3854507b0b495f09e503d19",
       "version_major": 2,
       "version_minor": 0
      },
      "text/plain": [
       "README.md:   0%|          | 0.00/1.65k [00:00<?, ?B/s]"
      ]
     },
     "metadata": {},
     "output_type": "display_data"
    }
   ],
   "source": [
    "#Log the pipeline to the existing training run\n",
    "with mlflow.start_run(run_id=run.info.run_id):\n",
    "    model_info = mlflow.transformers.log_model(\n",
    "        transformers_model=tuned_pipeline,\n",
    "        #artifact_path=\"fine_tuned\",\n",
    "        artifact_path=\"model\",\n",
    "        signature=signature,\n",
    "        input_example=[\"Pass in a string\", \"And have it mark as spam or not.\"],\n",
    "        #model_config=model_config,\n",
    "    )"
   ]
  },
  {
   "cell_type": "code",
   "execution_count": 67,
   "metadata": {},
   "outputs": [
    {
     "name": "stderr",
     "output_type": "stream",
     "text": [
      "2024/06/22 18:46:39 INFO mlflow.transformers: 'runs:/189c00d0f8db4c9c93061fc27564342d/model' resolved as 'file:///Users/lukishyadav/Desktop/engineering/case_studies/ner_casestudy/mlruns/871896506229020652/189c00d0f8db4c9c93061fc27564342d/artifacts/model'\n",
      "2024/06/22 18:46:40 WARNING mlflow.transformers: Could not specify device parameter for this pipeline type\n"
     ]
    },
    {
     "data": {
      "text/plain": [
       "[{'entity': 'LABEL_10',\n",
       "  'score': 0.114152364,\n",
       "  'index': 1,\n",
       "  'word': '▁Hello',\n",
       "  'start': 0,\n",
       "  'end': 5},\n",
       " {'entity': 'LABEL_9',\n",
       "  'score': 0.11880725,\n",
       "  'index': 2,\n",
       "  'word': '!',\n",
       "  'start': 5,\n",
       "  'end': 6},\n",
       " {'entity': 'LABEL_9',\n",
       "  'score': 0.124284334,\n",
       "  'index': 3,\n",
       "  'word': '▁the',\n",
       "  'start': 6,\n",
       "  'end': 10},\n",
       " {'entity': 'LABEL_9',\n",
       "  'score': 0.12509684,\n",
       "  'index': 4,\n",
       "  'word': 're',\n",
       "  'start': 10,\n",
       "  'end': 12}]"
      ]
     },
     "execution_count": 67,
     "metadata": {},
     "output_type": "execute_result"
    }
   ],
   "source": [
    "# Load our saved model in the native transformers format\n",
    "loaded = mlflow.transformers.load_model(model_uri=model_info.model_uri)\n",
    "\n",
    "# Define a test example that we expect to be classified as spam\n",
    "validation_text = (\n",
    "    \"Want to learn how to make MILLIONS with no effort? Click HERE now! See for yourself! Guaranteed to make you instantly rich! \"\n",
    "    \"Don't miss out you could be a winner!\"\n",
    ")\n",
    "\n",
    "validation_text=(\"Hello! there\")\n",
    "\n",
    "# validate the performance of our fine-tuning\n",
    "loaded(validation_text)"
   ]
  },
  {
   "cell_type": "code",
   "execution_count": 68,
   "metadata": {},
   "outputs": [
    {
     "data": {
      "text/plain": [
       "[['Police',\n",
       "  'said',\n",
       "  'the',\n",
       "  'British',\n",
       "  'Home',\n",
       "  'Office',\n",
       "  'sought',\n",
       "  'an',\n",
       "  'investigation',\n",
       "  'of',\n",
       "  'Khayam',\n",
       "  \"'s\",\n",
       "  'behavior'],\n",
       " ['A',\n",
       "  'spokesman',\n",
       "  'for',\n",
       "  'the',\n",
       "  'Brotherhood',\n",
       "  'said',\n",
       "  'the',\n",
       "  'arrests',\n",
       "  'are',\n",
       "  'an',\n",
       "  'attempt',\n",
       "  'to',\n",
       "  'cut',\n",
       "  'the',\n",
       "  'Brotherhood',\n",
       "  'off',\n",
       "  'from',\n",
       "  'its',\n",
       "  'supporters',\n",
       "  'and',\n",
       "  'punishment',\n",
       "  'for',\n",
       "  'winning',\n",
       "  'parliamentary',\n",
       "  'seats',\n",
       "  'in',\n",
       "  'earlier',\n",
       "  'elections',\n",
       "  '.'],\n",
       " ['The',\n",
       "  'Muslim',\n",
       "  'Brotherhood',\n",
       "  'has',\n",
       "  'tripled',\n",
       "  'its',\n",
       "  'strength',\n",
       "  'in',\n",
       "  'parliament',\n",
       "  'in',\n",
       "  'recent',\n",
       "  'elections',\n",
       "  ',',\n",
       "  'raising',\n",
       "  'the',\n",
       "  'party',\n",
       "  \"'s\",\n",
       "  'total',\n",
       "  'to',\n",
       "  '47',\n",
       "  'seats',\n",
       "  '.'],\n",
       " ['Bedfordshire',\n",
       "  'police',\n",
       "  'said',\n",
       "  'Tuesday',\n",
       "  'that',\n",
       "  'Omar',\n",
       "  'Khayam',\n",
       "  'was',\n",
       "  'arrested',\n",
       "  'in',\n",
       "  'Bedford',\n",
       "  'for',\n",
       "  'breaching',\n",
       "  'the',\n",
       "  'conditions',\n",
       "  'of',\n",
       "  'his',\n",
       "  'parole',\n",
       "  '.'],\n",
       " ['The',\n",
       "  'opposition',\n",
       "  'has',\n",
       "  'denounced',\n",
       "  'the',\n",
       "  'measure',\n",
       "  ',',\n",
       "  'comparing',\n",
       "  'it',\n",
       "  'to',\n",
       "  'the',\n",
       "  'draconian',\n",
       "  'rule',\n",
       "  'of',\n",
       "  'the',\n",
       "  'former',\n",
       "  'Taleban',\n",
       "  'in',\n",
       "  'neighboring',\n",
       "  'Afghanistan',\n",
       "  '.'],\n",
       " ['The',\n",
       "  'party',\n",
       "  'is',\n",
       "  'divided',\n",
       "  'over',\n",
       "  'Britain',\n",
       "  \"'s\",\n",
       "  'participation',\n",
       "  'in',\n",
       "  'the',\n",
       "  'Iraq',\n",
       "  'conflict',\n",
       "  'and',\n",
       "  'the',\n",
       "  'continued',\n",
       "  'deployment',\n",
       "  'of',\n",
       "  '8,500',\n",
       "  'British',\n",
       "  'troops',\n",
       "  'in',\n",
       "  'that',\n",
       "  'country',\n",
       "  '.'],\n",
       " ['Iran',\n",
       "  \"'s\",\n",
       "  'new',\n",
       "  'President',\n",
       "  'Mahmoud',\n",
       "  'Ahmadinejad',\n",
       "  'said',\n",
       "  'Tuesday',\n",
       "  'that',\n",
       "  'European',\n",
       "  'incentives',\n",
       "  'aimed',\n",
       "  'at',\n",
       "  'persuading',\n",
       "  'Iran',\n",
       "  'to',\n",
       "  'end',\n",
       "  'its',\n",
       "  'nuclear',\n",
       "  'fuel',\n",
       "  'program',\n",
       "  'are',\n",
       "  'an',\n",
       "  'insult',\n",
       "  'to',\n",
       "  'the',\n",
       "  'Iranian',\n",
       "  'nation',\n",
       "  '.'],\n",
       " ['It',\n",
       "  'was',\n",
       "  'not',\n",
       "  'immediately',\n",
       "  'clear',\n",
       "  'if',\n",
       "  'the',\n",
       "  'president',\n",
       "  'was',\n",
       "  'in',\n",
       "  'the',\n",
       "  'palace',\n",
       "  'in',\n",
       "  'Mogadishu',\n",
       "  'when',\n",
       "  'the',\n",
       "  'attack',\n",
       "  'occurred',\n",
       "  'or',\n",
       "  'if',\n",
       "  'anyone',\n",
       "  'was',\n",
       "  'hurt',\n",
       "  '.'],\n",
       " ['Militant',\n",
       "  'groups',\n",
       "  'frequently',\n",
       "  'attack',\n",
       "  'oil',\n",
       "  'operations',\n",
       "  'in',\n",
       "  'the',\n",
       "  'Niger',\n",
       "  'Delta',\n",
       "  'to',\n",
       "  'demand',\n",
       "  'social',\n",
       "  'services',\n",
       "  'and',\n",
       "  'better',\n",
       "  'job',\n",
       "  'opportunities',\n",
       "  'from',\n",
       "  'multinational',\n",
       "  'companies',\n",
       "  '.']]"
      ]
     },
     "execution_count": 68,
     "metadata": {},
     "output_type": "execute_result"
    }
   ],
   "source": [
    "test_data['tokens']"
   ]
  },
  {
   "cell_type": "code",
   "execution_count": 74,
   "metadata": {},
   "outputs": [
    {
     "name": "stderr",
     "output_type": "stream",
     "text": [
      "/opt/anaconda3/envs/gen_3.8/lib/python3.8/site-packages/huggingface_hub/file_download.py:1132: FutureWarning: `resume_download` is deprecated and will be removed in version 1.0.0. Downloads always resume when possible. If you want to force a new download, use `force_download=True`.\n",
      "  warnings.warn(\n"
     ]
    },
    {
     "name": "stdout",
     "output_type": "stream",
     "text": [
      "[{'entity_group': 'b_PER+O', 'score': 0.9961592, 'word': 'Hugging', 'start': 0, 'end': 7}, {'entity_group': 'i_PER+O', 'score': 0.85518867, 'word': 'Face Inc. is', 'start': 7, 'end': 20}, {'entity_group': 'O+O', 'score': 0.42458165, 'word': 'a', 'start': 20, 'end': 22}, {'entity_group': 'i_DESC+O', 'score': 0.4448272, 'word': 'company based in New', 'start': 22, 'end': 43}, {'entity_group': 'i_SPAT+i_LOC', 'score': 0.6645448, 'word': 'York City', 'start': 43, 'end': 53}, {'entity_group': 'O+O', 'score': 0.8009725, 'word': '. Its', 'start': 53, 'end': 58}, {'entity_group': 'i_SPAT+i_LOC', 'score': 0.73955727, 'word': 'headquarters are in DUMBO, therefore very close to the Manhattan Bridge', 'start': 58, 'end': 130}, {'entity_group': 'O+O', 'score': 0.9961035, 'word': '.', 'start': 130, 'end': 131}]\n"
     ]
    }
   ],
   "source": [
    "# Predict with the model\n",
    "ner_pipeline = pipeline(\"ner\", model=model, tokenizer=tokenizer, aggregation_strategy=\"simple\",device=device)\n",
    "ner_pipeline = pipeline(\"ner\", model=model_checkpoint, tokenizer=tokenizer, aggregation_strategy=\"simple\",device=device)\n",
    "sample_text = \"Hugging Face Inc. is a company based in New York City. Its headquarters are in DUMBO, therefore very close to the Manhattan Bridge.\"\n",
    "ner_results = ner_pipeline(sample_text)\n",
    "print(ner_results)"
   ]
  },
  {
   "cell_type": "code",
   "execution_count": 69,
   "metadata": {},
   "outputs": [],
   "source": [
    "# import requests\n",
    "# import json\n",
    "# host = 'localhost'\n",
    "# port = '5000'\n",
    "# url = f'http://{host}:{port}/invocations'\n",
    "# headers = {'Content-Type': 'application/json',}\n",
    "# #http_data = test_df.to_json(orient='split')\n",
    "# #http_data={'inputs':[list(X_test[0])]}\n",
    "\n",
    "# http_data={'signature_name':'a','inputs':test_data['tokens']}\n",
    "# http_data={\"inputs\": [\"Hello\"]}\n",
    "\n",
    "# r = requests.post(url=url, headers=headers, data=json.dumps(http_data))\n",
    "# print(f'Predictions: {r.text}')"
   ]
  },
  {
   "cell_type": "code",
   "execution_count": 70,
   "metadata": {},
   "outputs": [],
   "source": [
    "import requests\n",
    "\n",
    "headers = {\n",
    "    # Already added when you pass json=\n",
    "    # 'Content-Type': 'application/json',\n",
    "}\n",
    "\n",
    "json_data = {\n",
    "    'inputs': [\n",
    "        'Hello',\n",
    "    ],\n",
    "}\n",
    "\n",
    "response = requests.post('http://en.wikipedia.org/curl', headers=headers, json=json_data)\n",
    "response = requests.post('http://127.0.0.1:5000/invocations', headers=headers, json=json_data)\n"
   ]
  },
  {
   "cell_type": "code",
   "execution_count": 71,
   "metadata": {},
   "outputs": [
    {
     "data": {
      "text/plain": [
       "'{\"predictions\": [\"LABEL_2\"]}'"
      ]
     },
     "execution_count": 71,
     "metadata": {},
     "output_type": "execute_result"
    }
   ],
   "source": [
    "response.text"
   ]
  },
  {
   "cell_type": "code",
   "execution_count": 72,
   "metadata": {},
   "outputs": [
    {
     "ename": "NameError",
     "evalue": "name 'json' is not defined",
     "output_type": "error",
     "traceback": [
      "\u001b[0;31m---------------------------------------------------------------------------\u001b[0m",
      "\u001b[0;31mNameError\u001b[0m                                 Traceback (most recent call last)",
      "Cell \u001b[0;32mIn[72], line 1\u001b[0m\n\u001b[0;32m----> 1\u001b[0m \u001b[43mjson\u001b[49m\u001b[38;5;241m.\u001b[39mdumps(http_data)\n",
      "\u001b[0;31mNameError\u001b[0m: name 'json' is not defined"
     ]
    }
   ],
   "source": [
    "json.dumps(http_data)"
   ]
  },
  {
   "cell_type": "code",
   "execution_count": null,
   "metadata": {},
   "outputs": [
    {
     "data": {
      "text/plain": [
       "'{\"inputs\": \"Hello! there\"}'"
      ]
     },
     "execution_count": 30,
     "metadata": {},
     "output_type": "execute_result"
    }
   ],
   "source": [
    "#Working Curl requests\n",
    "\n",
    "curl http://127.0.0.1:5000/invocations -H \"Content-Type:application/json\"  --data '{\"inputs\": [\"Hello\"]}'"
   ]
  },
  {
   "cell_type": "code",
   "execution_count": null,
   "metadata": {},
   "outputs": [],
   "source": [
    "# import docker\n",
    "# client = docker.from_env()\n",
    "# print(client.version())"
   ]
  },
  {
   "cell_type": "code",
   "execution_count": null,
   "metadata": {},
   "outputs": [],
   "source": [
    "# import mlflow\n",
    "# import docker\n",
    "\n",
    "# # Set Docker client configuration\n",
    "# client = docker.DockerClient(base_url='unix://var/run/docker.sock')\n",
    "\n",
    "# # Set the run ID\n",
    "# run_id = \"1d917a3a56d849c9bf2bf48afc287ba4\"\n",
    "\n",
    "# # Build the Docker image\n",
    "# mlflow.models.build_docker(\n",
    "#     model_uri=f\"runs:/{run_id}/model\",\n",
    "#     name=\"mlflow_1\",\n",
    "#     enable_mlserver=True,\n",
    "#     client=client\n",
    "# )\n"
   ]
  },
  {
   "cell_type": "code",
   "execution_count": null,
   "metadata": {},
   "outputs": [
    {
     "data": {
      "application/vnd.jupyter.widget-view+json": {
       "model_id": "7be1d1b16cd24d1787e499ef0be4aeb6",
       "version_major": 2,
       "version_minor": 0
      },
      "text/plain": [
       "Downloading artifacts:   0%|          | 0/1 [00:00<?, ?it/s]"
      ]
     },
     "metadata": {},
     "output_type": "display_data"
    },
    {
     "name": "stderr",
     "output_type": "stream",
     "text": [
      "2024/06/22 16:59:04 INFO mlflow.models.flavor_backend_registry: Selected backend for flavor 'python_function'\n"
     ]
    },
    {
     "data": {
      "application/vnd.jupyter.widget-view+json": {
       "model_id": "3062628650414b72babe93c6d8de08c1",
       "version_major": 2,
       "version_minor": 0
      },
      "text/plain": [
       "Downloading artifacts:   0%|          | 0/15 [00:00<?, ?it/s]"
      ]
     },
     "metadata": {},
     "output_type": "display_data"
    },
    {
     "name": "stderr",
     "output_type": "stream",
     "text": [
      "2024/06/22 16:59:04 INFO mlflow.store.artifact.artifact_repo: The progress bar can be disabled by setting the environment variable MLFLOW_ENABLE_ARTIFACTS_PROGRESS_BAR to false\n",
      "2024/06/22 16:59:04 INFO mlflow.models.docker_utils: Building docker image with name mlflow_1\n"
     ]
    },
    {
     "ename": "DockerException",
     "evalue": "Error while fetching server API version: Not supported URL scheme http+docker",
     "output_type": "error",
     "traceback": [
      "\u001b[0;31m---------------------------------------------------------------------------\u001b[0m",
      "\u001b[0;31mURLSchemeUnknown\u001b[0m                          Traceback (most recent call last)",
      "File \u001b[0;32m/opt/anaconda3/envs/gen_3.8/lib/python3.8/site-packages/requests/adapters.py:555\u001b[0m, in \u001b[0;36mHTTPAdapter.send\u001b[0;34m(self, request, stream, timeout, verify, cert, proxies)\u001b[0m\n\u001b[1;32m    554\u001b[0m \u001b[38;5;28;01mtry\u001b[39;00m:\n\u001b[0;32m--> 555\u001b[0m     conn \u001b[38;5;241m=\u001b[39m \u001b[38;5;28;43mself\u001b[39;49m\u001b[38;5;241;43m.\u001b[39;49m\u001b[43mget_connection_with_tls_context\u001b[49m\u001b[43m(\u001b[49m\n\u001b[1;32m    556\u001b[0m \u001b[43m        \u001b[49m\u001b[43mrequest\u001b[49m\u001b[43m,\u001b[49m\u001b[43m \u001b[49m\u001b[43mverify\u001b[49m\u001b[43m,\u001b[49m\u001b[43m \u001b[49m\u001b[43mproxies\u001b[49m\u001b[38;5;241;43m=\u001b[39;49m\u001b[43mproxies\u001b[49m\u001b[43m,\u001b[49m\u001b[43m \u001b[49m\u001b[43mcert\u001b[49m\u001b[38;5;241;43m=\u001b[39;49m\u001b[43mcert\u001b[49m\n\u001b[1;32m    557\u001b[0m \u001b[43m    \u001b[49m\u001b[43m)\u001b[49m\n\u001b[1;32m    558\u001b[0m \u001b[38;5;28;01mexcept\u001b[39;00m LocationValueError \u001b[38;5;28;01mas\u001b[39;00m e:\n",
      "File \u001b[0;32m/opt/anaconda3/envs/gen_3.8/lib/python3.8/site-packages/requests/adapters.py:411\u001b[0m, in \u001b[0;36mHTTPAdapter.get_connection_with_tls_context\u001b[0;34m(self, request, verify, proxies, cert)\u001b[0m\n\u001b[1;32m    409\u001b[0m \u001b[38;5;28;01melse\u001b[39;00m:\n\u001b[1;32m    410\u001b[0m     \u001b[38;5;66;03m# Only scheme should be lower case\u001b[39;00m\n\u001b[0;32m--> 411\u001b[0m     conn \u001b[38;5;241m=\u001b[39m \u001b[38;5;28;43mself\u001b[39;49m\u001b[38;5;241;43m.\u001b[39;49m\u001b[43mpoolmanager\u001b[49m\u001b[38;5;241;43m.\u001b[39;49m\u001b[43mconnection_from_host\u001b[49m\u001b[43m(\u001b[49m\n\u001b[1;32m    412\u001b[0m \u001b[43m        \u001b[49m\u001b[38;5;241;43m*\u001b[39;49m\u001b[38;5;241;43m*\u001b[39;49m\u001b[43mhost_params\u001b[49m\u001b[43m,\u001b[49m\u001b[43m \u001b[49m\u001b[43mpool_kwargs\u001b[49m\u001b[38;5;241;43m=\u001b[39;49m\u001b[43mpool_kwargs\u001b[49m\n\u001b[1;32m    413\u001b[0m \u001b[43m    \u001b[49m\u001b[43m)\u001b[49m\n\u001b[1;32m    415\u001b[0m \u001b[38;5;28;01mreturn\u001b[39;00m conn\n",
      "File \u001b[0;32m/opt/anaconda3/envs/gen_3.8/lib/python3.8/site-packages/urllib3/poolmanager.py:304\u001b[0m, in \u001b[0;36mPoolManager.connection_from_host\u001b[0;34m(self, host, port, scheme, pool_kwargs)\u001b[0m\n\u001b[1;32m    302\u001b[0m request_context[\u001b[38;5;124m\"\u001b[39m\u001b[38;5;124mhost\u001b[39m\u001b[38;5;124m\"\u001b[39m] \u001b[38;5;241m=\u001b[39m host\n\u001b[0;32m--> 304\u001b[0m \u001b[38;5;28;01mreturn\u001b[39;00m \u001b[38;5;28;43mself\u001b[39;49m\u001b[38;5;241;43m.\u001b[39;49m\u001b[43mconnection_from_context\u001b[49m\u001b[43m(\u001b[49m\u001b[43mrequest_context\u001b[49m\u001b[43m)\u001b[49m\n",
      "File \u001b[0;32m/opt/anaconda3/envs/gen_3.8/lib/python3.8/site-packages/urllib3/poolmanager.py:326\u001b[0m, in \u001b[0;36mPoolManager.connection_from_context\u001b[0;34m(self, request_context)\u001b[0m\n\u001b[1;32m    325\u001b[0m \u001b[38;5;28;01mif\u001b[39;00m \u001b[38;5;129;01mnot\u001b[39;00m pool_key_constructor:\n\u001b[0;32m--> 326\u001b[0m     \u001b[38;5;28;01mraise\u001b[39;00m URLSchemeUnknown(scheme)\n\u001b[1;32m    327\u001b[0m pool_key \u001b[38;5;241m=\u001b[39m pool_key_constructor(request_context)\n",
      "\u001b[0;31mURLSchemeUnknown\u001b[0m: Not supported URL scheme http+docker",
      "\nDuring handling of the above exception, another exception occurred:\n",
      "\u001b[0;31mInvalidURL\u001b[0m                                Traceback (most recent call last)",
      "File \u001b[0;32m/opt/anaconda3/envs/gen_3.8/lib/python3.8/site-packages/docker/api/client.py:214\u001b[0m, in \u001b[0;36mAPIClient._retrieve_server_version\u001b[0;34m(self)\u001b[0m\n\u001b[1;32m    213\u001b[0m \u001b[38;5;28;01mtry\u001b[39;00m:\n\u001b[0;32m--> 214\u001b[0m     \u001b[38;5;28;01mreturn\u001b[39;00m \u001b[38;5;28;43mself\u001b[39;49m\u001b[38;5;241;43m.\u001b[39;49m\u001b[43mversion\u001b[49m\u001b[43m(\u001b[49m\u001b[43mapi_version\u001b[49m\u001b[38;5;241;43m=\u001b[39;49m\u001b[38;5;28;43;01mFalse\u001b[39;49;00m\u001b[43m)\u001b[49m[\u001b[38;5;124m\"\u001b[39m\u001b[38;5;124mApiVersion\u001b[39m\u001b[38;5;124m\"\u001b[39m]\n\u001b[1;32m    215\u001b[0m \u001b[38;5;28;01mexcept\u001b[39;00m \u001b[38;5;167;01mKeyError\u001b[39;00m:\n",
      "File \u001b[0;32m/opt/anaconda3/envs/gen_3.8/lib/python3.8/site-packages/docker/api/daemon.py:181\u001b[0m, in \u001b[0;36mDaemonApiMixin.version\u001b[0;34m(self, api_version)\u001b[0m\n\u001b[1;32m    180\u001b[0m url \u001b[38;5;241m=\u001b[39m \u001b[38;5;28mself\u001b[39m\u001b[38;5;241m.\u001b[39m_url(\u001b[38;5;124m\"\u001b[39m\u001b[38;5;124m/version\u001b[39m\u001b[38;5;124m\"\u001b[39m, versioned_api\u001b[38;5;241m=\u001b[39mapi_version)\n\u001b[0;32m--> 181\u001b[0m \u001b[38;5;28;01mreturn\u001b[39;00m \u001b[38;5;28mself\u001b[39m\u001b[38;5;241m.\u001b[39m_result(\u001b[38;5;28;43mself\u001b[39;49m\u001b[38;5;241;43m.\u001b[39;49m\u001b[43m_get\u001b[49m\u001b[43m(\u001b[49m\u001b[43murl\u001b[49m\u001b[43m)\u001b[49m, json\u001b[38;5;241m=\u001b[39m\u001b[38;5;28;01mTrue\u001b[39;00m)\n",
      "File \u001b[0;32m/opt/anaconda3/envs/gen_3.8/lib/python3.8/site-packages/docker/utils/decorators.py:46\u001b[0m, in \u001b[0;36mupdate_headers.<locals>.inner\u001b[0;34m(self, *args, **kwargs)\u001b[0m\n\u001b[1;32m     45\u001b[0m         kwargs[\u001b[38;5;124m'\u001b[39m\u001b[38;5;124mheaders\u001b[39m\u001b[38;5;124m'\u001b[39m]\u001b[38;5;241m.\u001b[39mupdate(\u001b[38;5;28mself\u001b[39m\u001b[38;5;241m.\u001b[39m_general_configs[\u001b[38;5;124m'\u001b[39m\u001b[38;5;124mHttpHeaders\u001b[39m\u001b[38;5;124m'\u001b[39m])\n\u001b[0;32m---> 46\u001b[0m \u001b[38;5;28;01mreturn\u001b[39;00m \u001b[43mf\u001b[49m\u001b[43m(\u001b[49m\u001b[38;5;28;43mself\u001b[39;49m\u001b[43m,\u001b[49m\u001b[43m \u001b[49m\u001b[38;5;241;43m*\u001b[39;49m\u001b[43margs\u001b[49m\u001b[43m,\u001b[49m\u001b[43m \u001b[49m\u001b[38;5;241;43m*\u001b[39;49m\u001b[38;5;241;43m*\u001b[39;49m\u001b[43mkwargs\u001b[49m\u001b[43m)\u001b[49m\n",
      "File \u001b[0;32m/opt/anaconda3/envs/gen_3.8/lib/python3.8/site-packages/docker/api/client.py:237\u001b[0m, in \u001b[0;36mAPIClient._get\u001b[0;34m(self, url, **kwargs)\u001b[0m\n\u001b[1;32m    235\u001b[0m \u001b[38;5;129m@update_headers\u001b[39m\n\u001b[1;32m    236\u001b[0m \u001b[38;5;28;01mdef\u001b[39;00m \u001b[38;5;21m_get\u001b[39m(\u001b[38;5;28mself\u001b[39m, url, \u001b[38;5;241m*\u001b[39m\u001b[38;5;241m*\u001b[39mkwargs):\n\u001b[0;32m--> 237\u001b[0m     \u001b[38;5;28;01mreturn\u001b[39;00m \u001b[38;5;28;43mself\u001b[39;49m\u001b[38;5;241;43m.\u001b[39;49m\u001b[43mget\u001b[49m\u001b[43m(\u001b[49m\u001b[43murl\u001b[49m\u001b[43m,\u001b[49m\u001b[43m \u001b[49m\u001b[38;5;241;43m*\u001b[39;49m\u001b[38;5;241;43m*\u001b[39;49m\u001b[38;5;28;43mself\u001b[39;49m\u001b[38;5;241;43m.\u001b[39;49m\u001b[43m_set_request_timeout\u001b[49m\u001b[43m(\u001b[49m\u001b[43mkwargs\u001b[49m\u001b[43m)\u001b[49m\u001b[43m)\u001b[49m\n",
      "File \u001b[0;32m/opt/anaconda3/envs/gen_3.8/lib/python3.8/site-packages/requests/sessions.py:602\u001b[0m, in \u001b[0;36mSession.get\u001b[0;34m(self, url, **kwargs)\u001b[0m\n\u001b[1;32m    601\u001b[0m kwargs\u001b[38;5;241m.\u001b[39msetdefault(\u001b[38;5;124m\"\u001b[39m\u001b[38;5;124mallow_redirects\u001b[39m\u001b[38;5;124m\"\u001b[39m, \u001b[38;5;28;01mTrue\u001b[39;00m)\n\u001b[0;32m--> 602\u001b[0m \u001b[38;5;28;01mreturn\u001b[39;00m \u001b[38;5;28;43mself\u001b[39;49m\u001b[38;5;241;43m.\u001b[39;49m\u001b[43mrequest\u001b[49m\u001b[43m(\u001b[49m\u001b[38;5;124;43m\"\u001b[39;49m\u001b[38;5;124;43mGET\u001b[39;49m\u001b[38;5;124;43m\"\u001b[39;49m\u001b[43m,\u001b[49m\u001b[43m \u001b[49m\u001b[43murl\u001b[49m\u001b[43m,\u001b[49m\u001b[43m \u001b[49m\u001b[38;5;241;43m*\u001b[39;49m\u001b[38;5;241;43m*\u001b[39;49m\u001b[43mkwargs\u001b[49m\u001b[43m)\u001b[49m\n",
      "File \u001b[0;32m/opt/anaconda3/envs/gen_3.8/lib/python3.8/site-packages/requests/sessions.py:589\u001b[0m, in \u001b[0;36mSession.request\u001b[0;34m(self, method, url, params, data, headers, cookies, files, auth, timeout, allow_redirects, proxies, hooks, stream, verify, cert, json)\u001b[0m\n\u001b[1;32m    588\u001b[0m send_kwargs\u001b[38;5;241m.\u001b[39mupdate(settings)\n\u001b[0;32m--> 589\u001b[0m resp \u001b[38;5;241m=\u001b[39m \u001b[38;5;28;43mself\u001b[39;49m\u001b[38;5;241;43m.\u001b[39;49m\u001b[43msend\u001b[49m\u001b[43m(\u001b[49m\u001b[43mprep\u001b[49m\u001b[43m,\u001b[49m\u001b[43m \u001b[49m\u001b[38;5;241;43m*\u001b[39;49m\u001b[38;5;241;43m*\u001b[39;49m\u001b[43msend_kwargs\u001b[49m\u001b[43m)\u001b[49m\n\u001b[1;32m    591\u001b[0m \u001b[38;5;28;01mreturn\u001b[39;00m resp\n",
      "File \u001b[0;32m/opt/anaconda3/envs/gen_3.8/lib/python3.8/site-packages/requests/sessions.py:703\u001b[0m, in \u001b[0;36mSession.send\u001b[0;34m(self, request, **kwargs)\u001b[0m\n\u001b[1;32m    702\u001b[0m \u001b[38;5;66;03m# Send the request\u001b[39;00m\n\u001b[0;32m--> 703\u001b[0m r \u001b[38;5;241m=\u001b[39m \u001b[43madapter\u001b[49m\u001b[38;5;241;43m.\u001b[39;49m\u001b[43msend\u001b[49m\u001b[43m(\u001b[49m\u001b[43mrequest\u001b[49m\u001b[43m,\u001b[49m\u001b[43m \u001b[49m\u001b[38;5;241;43m*\u001b[39;49m\u001b[38;5;241;43m*\u001b[39;49m\u001b[43mkwargs\u001b[49m\u001b[43m)\u001b[49m\n\u001b[1;32m    705\u001b[0m \u001b[38;5;66;03m# Total elapsed time of the request (approximately)\u001b[39;00m\n",
      "File \u001b[0;32m/opt/anaconda3/envs/gen_3.8/lib/python3.8/site-packages/requests/adapters.py:559\u001b[0m, in \u001b[0;36mHTTPAdapter.send\u001b[0;34m(self, request, stream, timeout, verify, cert, proxies)\u001b[0m\n\u001b[1;32m    558\u001b[0m \u001b[38;5;28;01mexcept\u001b[39;00m LocationValueError \u001b[38;5;28;01mas\u001b[39;00m e:\n\u001b[0;32m--> 559\u001b[0m     \u001b[38;5;28;01mraise\u001b[39;00m InvalidURL(e, request\u001b[38;5;241m=\u001b[39mrequest)\n\u001b[1;32m    561\u001b[0m \u001b[38;5;28mself\u001b[39m\u001b[38;5;241m.\u001b[39mcert_verify(conn, request\u001b[38;5;241m.\u001b[39murl, verify, cert)\n",
      "\u001b[0;31mInvalidURL\u001b[0m: Not supported URL scheme http+docker",
      "\nDuring handling of the above exception, another exception occurred:\n",
      "\u001b[0;31mDockerException\u001b[0m                           Traceback (most recent call last)",
      "Cell \u001b[0;32mIn[56], line 7\u001b[0m\n\u001b[1;32m      4\u001b[0m run_id \u001b[38;5;241m=\u001b[39m \u001b[38;5;124m\"\u001b[39m\u001b[38;5;124m1d917a3a56d849c9bf2bf48afc287ba4\u001b[39m\u001b[38;5;124m\"\u001b[39m\n\u001b[1;32m      6\u001b[0m \u001b[38;5;66;03m# Build the Docker image\u001b[39;00m\n\u001b[0;32m----> 7\u001b[0m \u001b[43mmlflow\u001b[49m\u001b[38;5;241;43m.\u001b[39;49m\u001b[43mmodels\u001b[49m\u001b[38;5;241;43m.\u001b[39;49m\u001b[43mbuild_docker\u001b[49m\u001b[43m(\u001b[49m\n\u001b[1;32m      8\u001b[0m \u001b[43m    \u001b[49m\u001b[43mmodel_uri\u001b[49m\u001b[38;5;241;43m=\u001b[39;49m\u001b[38;5;124;43mf\u001b[39;49m\u001b[38;5;124;43m\"\u001b[39;49m\u001b[38;5;124;43mruns:/\u001b[39;49m\u001b[38;5;132;43;01m{\u001b[39;49;00m\u001b[43mrun_id\u001b[49m\u001b[38;5;132;43;01m}\u001b[39;49;00m\u001b[38;5;124;43m/model\u001b[39;49m\u001b[38;5;124;43m\"\u001b[39;49m\u001b[43m,\u001b[49m\n\u001b[1;32m      9\u001b[0m \u001b[43m    \u001b[49m\u001b[43mname\u001b[49m\u001b[38;5;241;43m=\u001b[39;49m\u001b[38;5;124;43m\"\u001b[39;49m\u001b[38;5;124;43mmlflow_1\u001b[39;49m\u001b[38;5;124;43m\"\u001b[39;49m\u001b[43m,\u001b[49m\n\u001b[1;32m     10\u001b[0m \u001b[43m    \u001b[49m\u001b[43menable_mlserver\u001b[49m\u001b[38;5;241;43m=\u001b[39;49m\u001b[38;5;28;43;01mTrue\u001b[39;49;00m\u001b[43m,\u001b[49m\n\u001b[1;32m     11\u001b[0m \u001b[43m)\u001b[49m\n",
      "File \u001b[0;32m/opt/anaconda3/envs/gen_3.8/lib/python3.8/site-packages/mlflow/models/__init__.py:80\u001b[0m, in \u001b[0;36mbuild_docker\u001b[0;34m(model_uri, name, env_manager, mlflow_home, install_mlflow, enable_mlserver)\u001b[0m\n\u001b[1;32m     50\u001b[0m \u001b[38;5;28;01mdef\u001b[39;00m \u001b[38;5;21mbuild_docker\u001b[39m(\n\u001b[1;32m     51\u001b[0m     model_uri\u001b[38;5;241m=\u001b[39m\u001b[38;5;28;01mNone\u001b[39;00m,\n\u001b[1;32m     52\u001b[0m     name\u001b[38;5;241m=\u001b[39m\u001b[38;5;124m\"\u001b[39m\u001b[38;5;124mmlflow-pyfunc\u001b[39m\u001b[38;5;124m\"\u001b[39m,\n\u001b[0;32m   (...)\u001b[0m\n\u001b[1;32m     56\u001b[0m     enable_mlserver\u001b[38;5;241m=\u001b[39m\u001b[38;5;28;01mFalse\u001b[39;00m,\n\u001b[1;32m     57\u001b[0m ):\n\u001b[1;32m     58\u001b[0m \u001b[38;5;250m    \u001b[39m\u001b[38;5;124;03m\"\"\"\u001b[39;00m\n\u001b[1;32m     59\u001b[0m \u001b[38;5;124;03m    Builds a Docker image whose default entrypoint serves an MLflow model at port 8080, using the\u001b[39;00m\n\u001b[1;32m     60\u001b[0m \u001b[38;5;124;03m    python_function flavor. The container serves the model referenced by ``model_uri``, if\u001b[39;00m\n\u001b[0;32m   (...)\u001b[0m\n\u001b[1;32m     78\u001b[0m \u001b[38;5;124;03m    'python_function' flavor.\u001b[39;00m\n\u001b[1;32m     79\u001b[0m \u001b[38;5;124;03m    \"\"\"\u001b[39;00m\n\u001b[0;32m---> 80\u001b[0m     \u001b[43mget_flavor_backend\u001b[49m\u001b[43m(\u001b[49m\u001b[43mmodel_uri\u001b[49m\u001b[43m,\u001b[49m\u001b[43m \u001b[49m\u001b[43mdocker_build\u001b[49m\u001b[38;5;241;43m=\u001b[39;49m\u001b[38;5;28;43;01mTrue\u001b[39;49;00m\u001b[43m,\u001b[49m\u001b[43m \u001b[49m\u001b[43menv_manager\u001b[49m\u001b[38;5;241;43m=\u001b[39;49m\u001b[43menv_manager\u001b[49m\u001b[43m)\u001b[49m\u001b[38;5;241;43m.\u001b[39;49m\u001b[43mbuild_image\u001b[49m\u001b[43m(\u001b[49m\n\u001b[1;32m     81\u001b[0m \u001b[43m        \u001b[49m\u001b[43mmodel_uri\u001b[49m\u001b[43m,\u001b[49m\n\u001b[1;32m     82\u001b[0m \u001b[43m        \u001b[49m\u001b[43mname\u001b[49m\u001b[43m,\u001b[49m\n\u001b[1;32m     83\u001b[0m \u001b[43m        \u001b[49m\u001b[43mmlflow_home\u001b[49m\u001b[38;5;241;43m=\u001b[39;49m\u001b[43mmlflow_home\u001b[49m\u001b[43m,\u001b[49m\n\u001b[1;32m     84\u001b[0m \u001b[43m        \u001b[49m\u001b[43minstall_mlflow\u001b[49m\u001b[38;5;241;43m=\u001b[39;49m\u001b[43minstall_mlflow\u001b[49m\u001b[43m,\u001b[49m\n\u001b[1;32m     85\u001b[0m \u001b[43m        \u001b[49m\u001b[43menable_mlserver\u001b[49m\u001b[38;5;241;43m=\u001b[39;49m\u001b[43menable_mlserver\u001b[49m\u001b[43m,\u001b[49m\n\u001b[1;32m     86\u001b[0m \u001b[43m    \u001b[49m\u001b[43m)\u001b[49m\n",
      "File \u001b[0;32m/opt/anaconda3/envs/gen_3.8/lib/python3.8/site-packages/mlflow/pyfunc/backend.py:350\u001b[0m, in \u001b[0;36mPyFuncBackend.build_image\u001b[0;34m(self, model_uri, image_name, install_mlflow, mlflow_home, enable_mlserver)\u001b[0m\n\u001b[1;32m    344\u001b[0m copy_model_into_container \u001b[38;5;241m=\u001b[39m \u001b[38;5;28mself\u001b[39m\u001b[38;5;241m.\u001b[39mcopy_model_into_container_wrapper(\n\u001b[1;32m    345\u001b[0m     model_uri, install_mlflow, enable_mlserver\n\u001b[1;32m    346\u001b[0m )\n\u001b[1;32m    347\u001b[0m pyfunc_entrypoint \u001b[38;5;241m=\u001b[39m _pyfunc_entrypoint(\n\u001b[1;32m    348\u001b[0m     \u001b[38;5;28mself\u001b[39m\u001b[38;5;241m.\u001b[39m_env_manager, model_uri, install_mlflow, enable_mlserver\n\u001b[1;32m    349\u001b[0m )\n\u001b[0;32m--> 350\u001b[0m \u001b[43m_build_image\u001b[49m\u001b[43m(\u001b[49m\n\u001b[1;32m    351\u001b[0m \u001b[43m    \u001b[49m\u001b[43mimage_name\u001b[49m\u001b[38;5;241;43m=\u001b[39;49m\u001b[43mimage_name\u001b[49m\u001b[43m,\u001b[49m\n\u001b[1;32m    352\u001b[0m \u001b[43m    \u001b[49m\u001b[43mmlflow_home\u001b[49m\u001b[38;5;241;43m=\u001b[39;49m\u001b[43mmlflow_home\u001b[49m\u001b[43m,\u001b[49m\n\u001b[1;32m    353\u001b[0m \u001b[43m    \u001b[49m\u001b[43menv_manager\u001b[49m\u001b[38;5;241;43m=\u001b[39;49m\u001b[38;5;28;43mself\u001b[39;49m\u001b[38;5;241;43m.\u001b[39;49m\u001b[43m_env_manager\u001b[49m\u001b[43m,\u001b[49m\n\u001b[1;32m    354\u001b[0m \u001b[43m    \u001b[49m\u001b[43mcustom_setup_steps_hook\u001b[49m\u001b[38;5;241;43m=\u001b[39;49m\u001b[43mcopy_model_into_container\u001b[49m\u001b[43m,\u001b[49m\n\u001b[1;32m    355\u001b[0m \u001b[43m    \u001b[49m\u001b[43mentrypoint\u001b[49m\u001b[38;5;241;43m=\u001b[39;49m\u001b[43mpyfunc_entrypoint\u001b[49m\u001b[43m,\u001b[49m\n\u001b[1;32m    356\u001b[0m \u001b[43m\u001b[49m\u001b[43m)\u001b[49m\n",
      "File \u001b[0;32m/opt/anaconda3/envs/gen_3.8/lib/python3.8/site-packages/mlflow/models/docker_utils.py:221\u001b[0m, in \u001b[0;36m_build_image\u001b[0;34m(image_name, entrypoint, env_manager, mlflow_home, custom_setup_steps_hook)\u001b[0m\n\u001b[1;32m    211\u001b[0m     f\u001b[38;5;241m.\u001b[39mwrite(\n\u001b[1;32m    212\u001b[0m         _generate_dockerfile_content(\n\u001b[1;32m    213\u001b[0m             setup_miniconda\u001b[38;5;241m=\u001b[39msetup_miniconda,\n\u001b[0;32m   (...)\u001b[0m\n\u001b[1;32m    218\u001b[0m         )\n\u001b[1;32m    219\u001b[0m     )\n\u001b[1;32m    220\u001b[0m _logger\u001b[38;5;241m.\u001b[39minfo(\u001b[38;5;124m\"\u001b[39m\u001b[38;5;124mBuilding docker image with name \u001b[39m\u001b[38;5;132;01m%s\u001b[39;00m\u001b[38;5;124m\"\u001b[39m, image_name)\n\u001b[0;32m--> 221\u001b[0m \u001b[43m_build_image_from_context\u001b[49m\u001b[43m(\u001b[49m\u001b[43mcontext_dir\u001b[49m\u001b[38;5;241;43m=\u001b[39;49m\u001b[43mcwd\u001b[49m\u001b[43m,\u001b[49m\u001b[43m \u001b[49m\u001b[43mimage_name\u001b[49m\u001b[38;5;241;43m=\u001b[39;49m\u001b[43mimage_name\u001b[49m\u001b[43m)\u001b[49m\n",
      "File \u001b[0;32m/opt/anaconda3/envs/gen_3.8/lib/python3.8/site-packages/mlflow/models/docker_utils.py:227\u001b[0m, in \u001b[0;36m_build_image_from_context\u001b[0;34m(context_dir, image_name)\u001b[0m\n\u001b[1;32m    224\u001b[0m \u001b[38;5;28;01mdef\u001b[39;00m \u001b[38;5;21m_build_image_from_context\u001b[39m(context_dir: \u001b[38;5;28mstr\u001b[39m, image_name: \u001b[38;5;28mstr\u001b[39m):\n\u001b[1;32m    225\u001b[0m     \u001b[38;5;28;01mimport\u001b[39;00m \u001b[38;5;21;01mdocker\u001b[39;00m\n\u001b[0;32m--> 227\u001b[0m     client \u001b[38;5;241m=\u001b[39m \u001b[43mdocker\u001b[49m\u001b[38;5;241;43m.\u001b[39;49m\u001b[43mfrom_env\u001b[49m\u001b[43m(\u001b[49m\u001b[43m)\u001b[49m\n\u001b[1;32m    228\u001b[0m     \u001b[38;5;66;03m# In Docker < 19, `docker build` doesn't support the `--platform` option\u001b[39;00m\n\u001b[1;32m    229\u001b[0m     is_platform_supported \u001b[38;5;241m=\u001b[39m \u001b[38;5;28mint\u001b[39m(client\u001b[38;5;241m.\u001b[39mversion()[\u001b[38;5;124m\"\u001b[39m\u001b[38;5;124mVersion\u001b[39m\u001b[38;5;124m\"\u001b[39m]\u001b[38;5;241m.\u001b[39msplit(\u001b[38;5;124m\"\u001b[39m\u001b[38;5;124m.\u001b[39m\u001b[38;5;124m\"\u001b[39m)[\u001b[38;5;241m0\u001b[39m]) \u001b[38;5;241m>\u001b[39m\u001b[38;5;241m=\u001b[39m \u001b[38;5;241m19\u001b[39m\n",
      "File \u001b[0;32m/opt/anaconda3/envs/gen_3.8/lib/python3.8/site-packages/docker/client.py:96\u001b[0m, in \u001b[0;36mDockerClient.from_env\u001b[0;34m(cls, **kwargs)\u001b[0m\n\u001b[1;32m     94\u001b[0m version \u001b[38;5;241m=\u001b[39m kwargs\u001b[38;5;241m.\u001b[39mpop(\u001b[38;5;124m'\u001b[39m\u001b[38;5;124mversion\u001b[39m\u001b[38;5;124m'\u001b[39m, \u001b[38;5;28;01mNone\u001b[39;00m)\n\u001b[1;32m     95\u001b[0m use_ssh_client \u001b[38;5;241m=\u001b[39m kwargs\u001b[38;5;241m.\u001b[39mpop(\u001b[38;5;124m'\u001b[39m\u001b[38;5;124muse_ssh_client\u001b[39m\u001b[38;5;124m'\u001b[39m, \u001b[38;5;28;01mFalse\u001b[39;00m)\n\u001b[0;32m---> 96\u001b[0m \u001b[38;5;28;01mreturn\u001b[39;00m \u001b[38;5;28;43mcls\u001b[39;49m\u001b[43m(\u001b[49m\n\u001b[1;32m     97\u001b[0m \u001b[43m    \u001b[49m\u001b[43mtimeout\u001b[49m\u001b[38;5;241;43m=\u001b[39;49m\u001b[43mtimeout\u001b[49m\u001b[43m,\u001b[49m\n\u001b[1;32m     98\u001b[0m \u001b[43m    \u001b[49m\u001b[43mmax_pool_size\u001b[49m\u001b[38;5;241;43m=\u001b[39;49m\u001b[43mmax_pool_size\u001b[49m\u001b[43m,\u001b[49m\n\u001b[1;32m     99\u001b[0m \u001b[43m    \u001b[49m\u001b[43mversion\u001b[49m\u001b[38;5;241;43m=\u001b[39;49m\u001b[43mversion\u001b[49m\u001b[43m,\u001b[49m\n\u001b[1;32m    100\u001b[0m \u001b[43m    \u001b[49m\u001b[43muse_ssh_client\u001b[49m\u001b[38;5;241;43m=\u001b[39;49m\u001b[43muse_ssh_client\u001b[49m\u001b[43m,\u001b[49m\n\u001b[1;32m    101\u001b[0m \u001b[43m    \u001b[49m\u001b[38;5;241;43m*\u001b[39;49m\u001b[38;5;241;43m*\u001b[39;49m\u001b[43mkwargs_from_env\u001b[49m\u001b[43m(\u001b[49m\u001b[38;5;241;43m*\u001b[39;49m\u001b[38;5;241;43m*\u001b[39;49m\u001b[43mkwargs\u001b[49m\u001b[43m)\u001b[49m\n\u001b[1;32m    102\u001b[0m \u001b[43m\u001b[49m\u001b[43m)\u001b[49m\n",
      "File \u001b[0;32m/opt/anaconda3/envs/gen_3.8/lib/python3.8/site-packages/docker/client.py:45\u001b[0m, in \u001b[0;36mDockerClient.__init__\u001b[0;34m(self, *args, **kwargs)\u001b[0m\n\u001b[1;32m     44\u001b[0m \u001b[38;5;28;01mdef\u001b[39;00m \u001b[38;5;21m__init__\u001b[39m(\u001b[38;5;28mself\u001b[39m, \u001b[38;5;241m*\u001b[39margs, \u001b[38;5;241m*\u001b[39m\u001b[38;5;241m*\u001b[39mkwargs):\n\u001b[0;32m---> 45\u001b[0m     \u001b[38;5;28mself\u001b[39m\u001b[38;5;241m.\u001b[39mapi \u001b[38;5;241m=\u001b[39m \u001b[43mAPIClient\u001b[49m\u001b[43m(\u001b[49m\u001b[38;5;241;43m*\u001b[39;49m\u001b[43margs\u001b[49m\u001b[43m,\u001b[49m\u001b[43m \u001b[49m\u001b[38;5;241;43m*\u001b[39;49m\u001b[38;5;241;43m*\u001b[39;49m\u001b[43mkwargs\u001b[49m\u001b[43m)\u001b[49m\n",
      "File \u001b[0;32m/opt/anaconda3/envs/gen_3.8/lib/python3.8/site-packages/docker/api/client.py:197\u001b[0m, in \u001b[0;36mAPIClient.__init__\u001b[0;34m(self, base_url, version, timeout, tls, user_agent, num_pools, credstore_env, use_ssh_client, max_pool_size)\u001b[0m\n\u001b[1;32m    192\u001b[0m \u001b[38;5;66;03m# version detection needs to be after unix adapter mounting\u001b[39;00m\n\u001b[1;32m    193\u001b[0m \u001b[38;5;28;01mif\u001b[39;00m version \u001b[38;5;129;01mis\u001b[39;00m \u001b[38;5;28;01mNone\u001b[39;00m \u001b[38;5;129;01mor\u001b[39;00m (\u001b[38;5;28misinstance\u001b[39m(\n\u001b[1;32m    194\u001b[0m                         version,\n\u001b[1;32m    195\u001b[0m                         \u001b[38;5;28mstr\u001b[39m\n\u001b[1;32m    196\u001b[0m                         ) \u001b[38;5;129;01mand\u001b[39;00m version\u001b[38;5;241m.\u001b[39mlower() \u001b[38;5;241m==\u001b[39m \u001b[38;5;124m'\u001b[39m\u001b[38;5;124mauto\u001b[39m\u001b[38;5;124m'\u001b[39m):\n\u001b[0;32m--> 197\u001b[0m     \u001b[38;5;28mself\u001b[39m\u001b[38;5;241m.\u001b[39m_version \u001b[38;5;241m=\u001b[39m \u001b[38;5;28;43mself\u001b[39;49m\u001b[38;5;241;43m.\u001b[39;49m\u001b[43m_retrieve_server_version\u001b[49m\u001b[43m(\u001b[49m\u001b[43m)\u001b[49m\n\u001b[1;32m    198\u001b[0m \u001b[38;5;28;01melse\u001b[39;00m:\n\u001b[1;32m    199\u001b[0m     \u001b[38;5;28mself\u001b[39m\u001b[38;5;241m.\u001b[39m_version \u001b[38;5;241m=\u001b[39m version\n",
      "File \u001b[0;32m/opt/anaconda3/envs/gen_3.8/lib/python3.8/site-packages/docker/api/client.py:221\u001b[0m, in \u001b[0;36mAPIClient._retrieve_server_version\u001b[0;34m(self)\u001b[0m\n\u001b[1;32m    216\u001b[0m     \u001b[38;5;28;01mraise\u001b[39;00m DockerException(\n\u001b[1;32m    217\u001b[0m         \u001b[38;5;124m'\u001b[39m\u001b[38;5;124mInvalid response from docker daemon: key \u001b[39m\u001b[38;5;124m\"\u001b[39m\u001b[38;5;124mApiVersion\u001b[39m\u001b[38;5;124m\"\u001b[39m\u001b[38;5;124m'\u001b[39m\n\u001b[1;32m    218\u001b[0m         \u001b[38;5;124m'\u001b[39m\u001b[38;5;124m is missing.\u001b[39m\u001b[38;5;124m'\u001b[39m\n\u001b[1;32m    219\u001b[0m     )\n\u001b[1;32m    220\u001b[0m \u001b[38;5;28;01mexcept\u001b[39;00m \u001b[38;5;167;01mException\u001b[39;00m \u001b[38;5;28;01mas\u001b[39;00m e:\n\u001b[0;32m--> 221\u001b[0m     \u001b[38;5;28;01mraise\u001b[39;00m DockerException(\n\u001b[1;32m    222\u001b[0m         \u001b[38;5;124mf\u001b[39m\u001b[38;5;124m'\u001b[39m\u001b[38;5;124mError while fetching server API version: \u001b[39m\u001b[38;5;132;01m{\u001b[39;00me\u001b[38;5;132;01m}\u001b[39;00m\u001b[38;5;124m'\u001b[39m\n\u001b[1;32m    223\u001b[0m     )\n",
      "\u001b[0;31mDockerException\u001b[0m: Error while fetching server API version: Not supported URL scheme http+docker"
     ]
    }
   ],
   "source": [
    "# import mlflow\n",
    "\n",
    "# # Set the run ID\n",
    "# run_id = \"1d917a3a56d849c9bf2bf48afc287ba4\"\n",
    "\n",
    "# # Build the Docker image\n",
    "# mlflow.models.build_docker(\n",
    "#     model_uri=f\"runs:/{run_id}/model\",\n",
    "#     name=\"mlflow_1\",\n",
    "#     enable_mlserver=True,\n",
    "# )\n"
   ]
  }
 ],
 "metadata": {
  "kernelspec": {
   "display_name": "gen_3.8",
   "language": "python",
   "name": "python3"
  },
  "language_info": {
   "codemirror_mode": {
    "name": "ipython",
    "version": 3
   },
   "file_extension": ".py",
   "mimetype": "text/x-python",
   "name": "python",
   "nbconvert_exporter": "python",
   "pygments_lexer": "ipython3",
   "version": "3.8.19"
  }
 },
 "nbformat": 4,
 "nbformat_minor": 2
}
