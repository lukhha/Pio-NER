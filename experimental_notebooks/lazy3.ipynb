{
 "cells": [
  {
   "cell_type": "code",
   "execution_count": 2,
   "metadata": {},
   "outputs": [
    {
     "ename": "AttributeError",
     "evalue": "'Pandas' object has no attribute 'Sentence_'",
     "output_type": "error",
     "traceback": [
      "\u001b[0;31m---------------------------------------------------------------------------\u001b[0m",
      "\u001b[0;31mAttributeError\u001b[0m                            Traceback (most recent call last)",
      "Cell \u001b[0;32mIn[2], line 15\u001b[0m\n\u001b[1;32m     12\u001b[0m current_sentence \u001b[38;5;241m=\u001b[39m \u001b[38;5;28;01mNone\u001b[39;00m\n\u001b[1;32m     14\u001b[0m \u001b[38;5;28;01mfor\u001b[39;00m row \u001b[38;5;129;01min\u001b[39;00m df\u001b[38;5;241m.\u001b[39mitertuples():\n\u001b[0;32m---> 15\u001b[0m     sentence_num \u001b[38;5;241m=\u001b[39m \u001b[38;5;28;43mgetattr\u001b[39;49m\u001b[43m(\u001b[49m\u001b[43mrow\u001b[49m\u001b[43m,\u001b[49m\u001b[43m \u001b[49m\u001b[38;5;124;43m'\u001b[39;49m\u001b[38;5;124;43mSentence_\u001b[39;49m\u001b[38;5;124;43m'\u001b[39;49m\u001b[43m)\u001b[49m\n\u001b[1;32m     16\u001b[0m     word \u001b[38;5;241m=\u001b[39m row\u001b[38;5;241m.\u001b[39mWord\n\u001b[1;32m     17\u001b[0m     pos \u001b[38;5;241m=\u001b[39m row\u001b[38;5;241m.\u001b[39mPOS\n",
      "\u001b[0;31mAttributeError\u001b[0m: 'Pandas' object has no attribute 'Sentence_'"
     ]
    }
   ],
   "source": [
    "import pandas as pd\n",
    "\n",
    "# Load the CSV file with a different encoding\n",
    "file_path = '/Users/lukishyadav/Desktop/engineering/case_studies/ner_casestudy/data/ner_dataset.csv'\n",
    "df = pd.read_csv(file_path, encoding='ISO-8859-1')\n",
    "\n",
    "# Define the output file path\n",
    "output_file_path = 'data/ner_dataset_conll.txt'\n",
    "\n",
    "# Open a file to write the CoNLL-2003 formatted data\n",
    "with open(output_file_path, 'w') as f:\n",
    "    current_sentence = None\n",
    "    \n",
    "    for row in df.itertuples():\n",
    "        sentence_num = getattr(row, 'Sentence_')\n",
    "        word = row.Word\n",
    "        pos = row.POS\n",
    "        tag = row.Tag\n",
    "        \n",
    "        # Check if we need to start a new sentence\n",
    "        if pd.notna(sentence_num):\n",
    "            if current_sentence is not None:\n",
    "                f.write('\\n')  # End of the previous sentence\n",
    "            current_sentence = sentence_num\n",
    "        \n",
    "        # Write the word, POS, chunk tag (not available, so 'O'), and entity tag\n",
    "        f.write(f\"{word} {pos} O {tag}\\n\")\n",
    "    \n",
    "    # Ensure the file ends with a newline\n",
    "    f.write('\\n')\n",
    "\n",
    "print(\"Conversion complete. The CoNLL-2003 formatted file is saved as 'ner_dataset_conll.txt'.\")\n"
   ]
  },
  {
   "cell_type": "code",
   "execution_count": 3,
   "metadata": {},
   "outputs": [
    {
     "name": "stdout",
     "output_type": "stream",
     "text": [
      "Index(['Sentence #', 'Word', 'POS', 'Tag'], dtype='object')\n",
      "Conversion complete. The CoNLL-2003 formatted file is saved as 'ner_dataset_conll.txt'.\n"
     ]
    }
   ],
   "source": [
    "import pandas as pd\n",
    "\n",
    "# Load the CSV file with a different encoding\n",
    "file_path = '/Users/lukishyadav/Desktop/engineering/case_studies/ner_casestudy/data/ner_dataset.csv'\n",
    "df = pd.read_csv(file_path, encoding='ISO-8859-1')\n",
    "\n",
    "# Check the columns to ensure we have the correct names\n",
    "print(df.columns)\n",
    "\n",
    "# Define the output file path\n",
    "output_file_path = 'data/ner_dataset_conll.txt'\n",
    "\n",
    "# Open a file to write the CoNLL-2003 formatted data\n",
    "with open(output_file_path, 'w') as f:\n",
    "    current_sentence = None\n",
    "    \n",
    "    for row in df.itertuples():\n",
    "        sentence_num = row._1  # First column in itertuples is _1 for 'Sentence #'\n",
    "        word = row.Word\n",
    "        pos = row.POS\n",
    "        tag = row.Tag\n",
    "        \n",
    "        # Check if we need to start a new sentence\n",
    "        if pd.notna(sentence_num):\n",
    "            if current_sentence is not None:\n",
    "                f.write('\\n')  # End of the previous sentence\n",
    "            current_sentence = sentence_num\n",
    "        \n",
    "        # Write the word, POS, chunk tag (not available, so 'O'), and entity tag\n",
    "        f.write(f\"{word} {pos} O {tag}\\n\")\n",
    "    \n",
    "    # Ensure the file ends with a newline\n",
    "    f.write('\\n')\n",
    "\n",
    "print(\"Conversion complete. The CoNLL-2003 formatted file is saved as 'ner_dataset_conll.txt'.\")\n"
   ]
  },
  {
   "cell_type": "code",
   "execution_count": 5,
   "metadata": {},
   "outputs": [
    {
     "name": "stdout",
     "output_type": "stream",
     "text": [
      "Conversion complete. The dataset formatted for transformers is saved as 'ner_dataset_transformers.json'.\n"
     ]
    }
   ],
   "source": [
    "import pandas as pd\n",
    "import json\n",
    "\n",
    "# Load the CSV file with a different encoding\n",
    "file_path = '/Users/lukishyadav/Desktop/engineering/case_studies/ner_casestudy/data/ner_dataset.csv'\n",
    "df = pd.read_csv(file_path, encoding='ISO-8859-1')\n",
    "\n",
    "# Group the data by sentences\n",
    "sentences = []\n",
    "sentence = {'tokens': [], 'ner_tags': []}\n",
    "\n",
    "for row in df.itertuples():\n",
    "    sentence_num = row._1\n",
    "    word = row.Word\n",
    "    tag = row.Tag\n",
    "    \n",
    "    # Check if we need to start a new sentence\n",
    "    if pd.notna(sentence_num):\n",
    "        if sentence['tokens']:\n",
    "            sentences.append(sentence)\n",
    "        sentence = {'tokens': [], 'ner_tags': []}\n",
    "    \n",
    "    # Add the word and tag to the current sentence\n",
    "    sentence['tokens'].append(word)\n",
    "    sentence['ner_tags'].append(tag)\n",
    "\n",
    "# Add the last sentence\n",
    "if sentence['tokens']:\n",
    "    sentences.append(sentence)\n",
    "\n",
    "# Save to a JSON file\n",
    "output_file_path = 'data/ner_dataset_transformers.json'\n",
    "with open(output_file_path, 'w') as f:\n",
    "    json.dump(sentences, f, indent=4)\n",
    "\n",
    "print(\"Conversion complete. The dataset formatted for transformers is saved as 'ner_dataset_transformers.json'.\")\n"
   ]
  },
  {
   "cell_type": "code",
   "execution_count": 7,
   "metadata": {},
   "outputs": [],
   "source": [
    "from datasets import load_dataset\n",
    "\n",
    "raw_datasets = sentences"
   ]
  },
  {
   "cell_type": "code",
   "execution_count": 10,
   "metadata": {},
   "outputs": [
    {
     "data": {
      "text/plain": [
       "dict_keys(['tokens', 'ner_tags'])"
      ]
     },
     "execution_count": 10,
     "metadata": {},
     "output_type": "execute_result"
    }
   ],
   "source": [
    "raw_datasets[0].keys()"
   ]
  },
  {
   "cell_type": "code",
   "execution_count": 11,
   "metadata": {},
   "outputs": [
    {
     "data": {
      "text/plain": [
       "['O',\n",
       " 'O',\n",
       " 'O',\n",
       " 'O',\n",
       " 'O',\n",
       " 'O',\n",
       " 'B-geo',\n",
       " 'O',\n",
       " 'O',\n",
       " 'O',\n",
       " 'O',\n",
       " 'O',\n",
       " 'B-geo',\n",
       " 'O',\n",
       " 'O',\n",
       " 'O',\n",
       " 'O',\n",
       " 'O',\n",
       " 'B-gpe',\n",
       " 'O',\n",
       " 'O',\n",
       " 'O',\n",
       " 'O',\n",
       " 'O']"
      ]
     },
     "execution_count": 11,
     "metadata": {},
     "output_type": "execute_result"
    }
   ],
   "source": [
    "raw_datasets[0]['ner_tags']"
   ]
  }
 ],
 "metadata": {
  "kernelspec": {
   "display_name": "gen_3.8",
   "language": "python",
   "name": "python3"
  },
  "language_info": {
   "codemirror_mode": {
    "name": "ipython",
    "version": 3
   },
   "file_extension": ".py",
   "mimetype": "text/x-python",
   "name": "python",
   "nbconvert_exporter": "python",
   "pygments_lexer": "ipython3",
   "version": "3.8.19"
  }
 },
 "nbformat": 4,
 "nbformat_minor": 2
}
